{
 "cells": [
  {
   "cell_type": "code",
   "execution_count": 1,
   "metadata": {},
   "outputs": [],
   "source": [
    "import numpy as np\n",
    "import scipy.stats as stats\n",
    "import matplotlib.pyplot as plt"
   ]
  },
  {
   "cell_type": "code",
   "execution_count": 2,
   "metadata": {},
   "outputs": [],
   "source": [
    "# Set a random seed for reproducibility\n",
    "np.random.seed(4)"
   ]
  },
  {
   "cell_type": "code",
   "execution_count": 8,
   "metadata": {},
   "outputs": [],
   "source": [
    "# Parameters\n",
    "# Parameters\n",
    "T = 1000  # Time-series length\n",
    "n_x = 1  # Number of hidden states\n",
    "n_w = n_x  # Number of process error terms\n",
    "\n",
    "n_w2hat = n_x * (n_x + 1) / 2  # Total number of variance and covariance terms\n",
    "y = np.zeros(T)  # Initialization of the vector of observations\n",
    "\n",
    "# Q matrix\n",
    "sW = np.sqrt(1.35)  # 0.42, 1.35, 18.75 - Possible values for the true error variances\n",
    "Q = sW ** 2\n",
    "\n",
    "# R matrix\n",
    "QR_ratio = 10  # Q/R = (sigma_W)^2 / (sigma_V)^2\n",
    "R = Q / QR_ratio\n",
    "sV = np.sqrt(R)\n"
   ]
  },
  {
   "cell_type": "code",
   "execution_count": 10,
   "metadata": {},
   "outputs": [],
   "source": [
    "# Data\n",
    "YT = np.zeros((n_x, T))\n",
    "x_true = np.zeros((n_x, T))\n",
    "x_true[:, 0] = 0\n",
    "w = np.dot(sW, np.random.randn(n_x, T))\n",
    "v = np.dot(sV, np.random.randn(n_x, T))\n",
    "\n",
    "for t in range(1, T):\n",
    "    A_t = 0.8 - 0.1 * np.sin(7 * np.pi * t / T)  # Transition equation\n",
    "    C_t = 1 - 0.99 * np.sin(100 * np.pi * t / T)  # Observation equation\n",
    "    x_true[:, t] = A_t * x_true[:, t - 1] + w[:, t]\n",
    "    YT[:, t] = C_t * x_true[:, t] + v[:, t]"
   ]
  },
  {
   "cell_type": "code",
   "execution_count": null,
   "metadata": {},
   "outputs": [],
   "source": [
    "# Plot the data\n",
    "plt.figure(figsize=(10, 5))\n",
    "plt.plot(YT[0, :], label='Observations')\n",
    "plt.show()"
   ]
  },
  {
   "cell_type": "code",
   "execution_count": null,
   "metadata": {},
   "outputs": [],
   "source": [
    "# Initialization\n",
    "\n",
    "mw2 = 2  # Initial mean for \\overline{W^2}\n",
    "sw2 = 1  # Initial variance for \\overline{W^2}\n",
    "\n",
    "EX = np.zeros((3, T))  # X = [X  W  \\overline{W^2}]\n",
    "EX[:, 0] = np.transpose([0, np.nan, mw2]) # Initial mean is zero\n",
    "print(EX.shape)\n",
    "PX = np.zeros((3, 3, T))\n",
    "PX[:, :, 0] = np.diag([100, np.nan, sw2 ** 2])  # Initial variance is 100\n",
    "print(PX[:, :, 0])"
   ]
  },
  {
   "cell_type": "code",
   "execution_count": null,
   "metadata": {},
   "outputs": [],
   "source": [
    "for t in range(1, T):\n",
    "    A = 0.8 - 0.1 * np.sin(7 * np.pi * t / T)  # Transition equation\n",
    "    Ep = np.transpose([A * EX[0, t - 1], 0])  # Mean of W is zero\n",
    "    Ep = Ep.reshape(Ep.shape[0], 1)\n",
    "    m_w2hat = EX[2, t - 1]\n",
    "    s_w_sq = m_w2hat\n",
    "\n",
    "    Sp = np.array([[A ** 2 * PX[0, 0, t - 1] + s_w_sq, s_w_sq],\n",
    "                   [s_w_sq, s_w_sq]])\n",
    "\n",
    "    C = np.array([1 - 0.99 * np.sin(100 * np.pi * t / T), 0])  # Observation equation\n",
    "    \n",
    "    SY = C @ Sp @ C.T + R\n",
    "    SYX = Sp @ C.T\n",
    "    my = C @ Ep\n",
    "    K = SYX / SY\n",
    "    K = K.reshape(K.shape[0], 1)\n",
    "    \n",
    "    e = YT[:, t] - my\n",
    "    e = e.reshape(e.shape[0], 1)\n",
    "    SYX = SYX.reshape(SYX.shape[0], 1)\n",
    "    \n",
    "    EX1 = Ep + K @ e\n",
    "    print(EX1)\n",
    "    PX1 = Sp - K @ SYX.T\n",
    "    # print(PX1)\n",
    "\n",
    "    EX[0:2, t] = EX1\n",
    "    PX[0:2, 0:2, t] = PX1\n",
    "    v = YT[:, t] - my\n",
    "\n",
    "    \n"
   ]
  },
  {
   "cell_type": "code",
   "execution_count": null,
   "metadata": {},
   "outputs": [],
   "source": []
  }
 ],
 "metadata": {
  "kernelspec": {
   "display_name": ".venv",
   "language": "python",
   "name": "python3"
  },
  "language_info": {
   "codemirror_mode": {
    "name": "ipython",
    "version": 3
   },
   "file_extension": ".py",
   "mimetype": "text/x-python",
   "name": "python",
   "nbconvert_exporter": "python",
   "pygments_lexer": "ipython3",
   "version": "3.11.4"
  }
 },
 "nbformat": 4,
 "nbformat_minor": 2
}
